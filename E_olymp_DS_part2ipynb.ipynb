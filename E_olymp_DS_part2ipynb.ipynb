{
  "nbformat": 4,
  "nbformat_minor": 0,
  "metadata": {
    "colab": {
      "name": "E-olymp DS part2ipynb",
      "provenance": [],
      "authorship_tag": "ABX9TyMUFR+vqOco83PWbaAnylWQ",
      "include_colab_link": true
    },
    "kernelspec": {
      "name": "python3",
      "display_name": "Python 3"
    },
    "language_info": {
      "name": "python"
    }
  },
  "cells": [
    {
      "cell_type": "markdown",
      "metadata": {
        "id": "view-in-github",
        "colab_type": "text"
      },
      "source": [
        "<a href=\"https://colab.research.google.com/github/shafasamadli/DATA-SCIENCE/blob/main/E_olymp_DS_part2ipynb.ipynb\" target=\"_parent\"><img src=\"https://colab.research.google.com/assets/colab-badge.svg\" alt=\"Open In Colab\"/></a>"
      ]
    },
    {
      "cell_type": "code",
      "execution_count": null,
      "metadata": {
        "colab": {
          "base_uri": "https://localhost:8080/"
        },
        "id": "zkbt3Bu13noM",
        "outputId": "098cc925-f02c-416d-bff5-dcb4880387f7"
      },
      "outputs": [
        {
          "output_type": "stream",
          "name": "stdout",
          "text": [
            "3\n",
            "4\n"
          ]
        }
      ],
      "source": [
        "import math\n",
        "x=int(input())\n",
        "\n",
        "if x<5:\n",
        "  y= math.pow(x,2) - 3*x + 4\n",
        "  print(int(y))\n",
        "else:\n",
        "  y = x+7\n",
        "  print(y)\n"
      ]
    },
    {
      "cell_type": "code",
      "source": [
        "import math\n",
        "x=int(input())\n",
        "\n",
        "if x>=10:\n",
        "  y= math.pow(x,3) + 5*x\n",
        "  print(int(y))\n",
        "else:\n",
        "  y = math.pow(x,2) - 2*x + 4\n",
        "  print(int(y))"
      ],
      "metadata": {
        "colab": {
          "base_uri": "https://localhost:8080/"
        },
        "id": "oTVABg9n3r2e",
        "outputId": "81c0b815-a104-4dc2-9eff-aff54cc15513"
      },
      "execution_count": null,
      "outputs": [
        {
          "output_type": "stream",
          "name": "stdout",
          "text": [
            "20\n",
            "8100\n"
          ]
        }
      ]
    },
    {
      "cell_type": "code",
      "source": [
        "import math \n",
        "x = int(input())\n",
        "\n",
        "if x < -4:\n",
        "  y = x + 5\n",
        "  print(int(y))\n",
        "elif (x >= -4 and x<=7):\n",
        "  y =  math.pow(x,2) - 3*x\n",
        "  print(int(y))\n",
        "elif x > 7:\n",
        "  y = math.pow(x,3) + 2*x\n",
        "  print(int(y))\n",
        "\n"
      ],
      "metadata": {
        "colab": {
          "base_uri": "https://localhost:8080/"
        },
        "id": "LJ7xkxqv3sAh",
        "outputId": "c1160882-a633-4cde-cc81-78bf917ea40d"
      },
      "execution_count": null,
      "outputs": [
        {
          "output_type": "stream",
          "name": "stdout",
          "text": [
            "15\n",
            "3405\n"
          ]
        }
      ]
    },
    {
      "cell_type": "code",
      "source": [
        "n = int(input())\n",
        "if n%2!=0:\n",
        "  print(\"ODD\")\n",
        "else:\n",
        "  print(\"EVEN\")"
      ],
      "metadata": {
        "colab": {
          "base_uri": "https://localhost:8080/"
        },
        "id": "kfn2Lb6N3sDY",
        "outputId": "6407296a-03ae-4f60-9496-b5783c26ec96"
      },
      "execution_count": null,
      "outputs": [
        {
          "output_type": "stream",
          "name": "stdout",
          "text": [
            "5\n",
            "ODD\n"
          ]
        }
      ]
    },
    {
      "cell_type": "code",
      "source": [
        "a, b = input().split()\n",
        "if int(a) % int(b) == 0:\n",
        "  print(\"Divisible\")\n",
        "else:\n",
        "  quotient = int(a) // int(b)\n",
        "  remainder = int(a) % int(b)\n",
        "  print(quotient,remainder,end=\" \")"
      ],
      "metadata": {
        "colab": {
          "base_uri": "https://localhost:8080/"
        },
        "id": "Bzb6j0LP3sF4",
        "outputId": "0d15f76a-d040-4ce8-f53c-2975aac85dea"
      },
      "execution_count": null,
      "outputs": [
        {
          "output_type": "stream",
          "name": "stdout",
          "text": [
            "12 5 \n",
            "2 2 "
          ]
        }
      ]
    },
    {
      "cell_type": "code",
      "source": [
        "n, a, b = input().split()\n",
        "if (int(n) % int(a)==0 and int(n) % int(b) == 0):\n",
        "  print(\"YES\")\n",
        "else:\n",
        "  print(\"NO\")"
      ],
      "metadata": {
        "colab": {
          "base_uri": "https://localhost:8080/"
        },
        "id": "qV52wn0v9Rse",
        "outputId": "68d3c0d4-ae5d-4c6b-a2f3-137959853409"
      },
      "execution_count": null,
      "outputs": [
        {
          "output_type": "stream",
          "name": "stdout",
          "text": [
            "10 5 6\n",
            "NO\n"
          ]
        }
      ]
    },
    {
      "cell_type": "code",
      "source": [
        "n = input()\n",
        "if int(n) < 0:\n",
        "  n1 = n.strip(\"-\")\n",
        "  for i in n1:\n",
        "    print(i)\n",
        "else:\n",
        "  for j in n:\n",
        "    print(j)"
      ],
      "metadata": {
        "colab": {
          "base_uri": "https://localhost:8080/"
        },
        "id": "9TV4yHfLCkoy",
        "outputId": "7673d9d2-4e6a-4f8d-cff6-d180ca0ca5b0"
      },
      "execution_count": null,
      "outputs": [
        {
          "output_type": "stream",
          "name": "stdout",
          "text": [
            "-198\n",
            "1\n",
            "9\n",
            "8\n"
          ]
        }
      ]
    },
    {
      "cell_type": "code",
      "source": [
        "n,m = input().split()\n",
        "if abs(int(n)-int(m)) ==2:\n",
        "  print(1)\n",
        "else:\n",
        "  print(0)"
      ],
      "metadata": {
        "colab": {
          "base_uri": "https://localhost:8080/"
        },
        "id": "lB1Buv-BF4Xn",
        "outputId": "85a2a46d-7ed8-478c-df52-7081aa97e8f2"
      },
      "execution_count": null,
      "outputs": [
        {
          "output_type": "stream",
          "name": "stdout",
          "text": [
            "1 2 \n",
            "0\n"
          ]
        }
      ]
    },
    {
      "cell_type": "code",
      "source": [
        "import math \n",
        "n,m = input().split()\n",
        "list1=[x for x in range(int(n),int(m)+1)]\n",
        "print(min(list1),max(list1))\n"
      ],
      "metadata": {
        "colab": {
          "base_uri": "https://localhost:8080/"
        },
        "id": "XvImzWRXHN1d",
        "outputId": "655b5b17-cf26-461e-ed6d-b441de05a013"
      },
      "execution_count": null,
      "outputs": [
        {
          "output_type": "stream",
          "name": "stdout",
          "text": [
            "10 100\n",
            "10 100\n"
          ]
        }
      ]
    },
    {
      "cell_type": "code",
      "source": [
        "list2 = [1,2,3,4,5]\n",
        "print(max(list2))"
      ],
      "metadata": {
        "colab": {
          "base_uri": "https://localhost:8080/"
        },
        "id": "QwyYiOYWHirb",
        "outputId": "0d371e00-a5fc-4e87-cb9e-dc6c80b2cf67"
      },
      "execution_count": null,
      "outputs": [
        {
          "output_type": "stream",
          "name": "stdout",
          "text": [
            "5\n"
          ]
        }
      ]
    },
    {
      "cell_type": "code",
      "source": [
        "n,m = input().split()\n",
        "if int(n) < int(m):\n",
        "  print(int(n),int(m))\n",
        "else:\n",
        "  print(int(m),int(n))"
      ],
      "metadata": {
        "colab": {
          "base_uri": "https://localhost:8080/"
        },
        "id": "BQKMRekRILnT",
        "outputId": "452d61e2-fb3c-47a3-dfc3-fcdcc6bb0a21"
      },
      "execution_count": null,
      "outputs": [
        {
          "output_type": "stream",
          "name": "stdout",
          "text": [
            "10 100\n",
            "10 100\n"
          ]
        }
      ]
    },
    {
      "cell_type": "code",
      "source": [
        "t1,t2,t3= input().split()\n",
        "if (int(t1) < int(t2) and int(t1) <  int(t3)):\n",
        "  print(int(t1))\n",
        "elif (int(t2) < int(t1) and int(t2)<int(t3)):\n",
        "  print(int(t2))\n",
        "else:\n",
        "  print(int(t3))\n"
      ],
      "metadata": {
        "colab": {
          "base_uri": "https://localhost:8080/"
        },
        "id": "8_1o0XPwI4Xx",
        "outputId": "d2537986-45ae-4b0c-dd8d-fd853487ee52"
      },
      "execution_count": null,
      "outputs": [
        {
          "output_type": "stream",
          "name": "stdout",
          "text": [
            "23 45 10\n",
            "10\n"
          ]
        }
      ]
    },
    {
      "cell_type": "code",
      "source": [
        "a,b,c,d = input().split()\n",
        "print(max(int(a),int(b),int(c),int(d)))"
      ],
      "metadata": {
        "colab": {
          "base_uri": "https://localhost:8080/"
        },
        "id": "oFlwn7TYKfPn",
        "outputId": "0ecdebc6-04a9-4d39-e055-1f0482e68f27"
      },
      "execution_count": null,
      "outputs": [
        {
          "output_type": "stream",
          "name": "stdout",
          "text": [
            "4 6 10 2\n",
            "10\n"
          ]
        }
      ]
    },
    {
      "cell_type": "code",
      "source": [
        "import math \n",
        "r, w, l = input().split()\n",
        "size_of_cake = int(w) * int(l)\n",
        "size_of_table = math.pi * (int(r)**2)\n",
        "if size_of_cake<=size_of_table:\n",
        "  print(\"YES\")\n",
        "else:\n",
        "  print(\"NO\")"
      ],
      "metadata": {
        "colab": {
          "base_uri": "https://localhost:8080/"
        },
        "id": "ZQxJr-e1NOen",
        "outputId": "006752a5-bbca-495b-b3f4-84a257906b72"
      },
      "execution_count": null,
      "outputs": [
        {
          "output_type": "stream",
          "name": "stdout",
          "text": [
            "38 40 60\n",
            "NO\n"
          ]
        }
      ]
    },
    {
      "cell_type": "code",
      "source": [
        ""
      ],
      "metadata": {
        "id": "HlaUEFTJae6v"
      },
      "execution_count": null,
      "outputs": []
    },
    {
      "cell_type": "code",
      "source": [
        "a,b,c = input().split()\n",
        "if int(a)==int(b) and int(b) == int(c):\n",
        "  print(1)\n",
        "elif int(a) == int(b) or int(b)==int(c) or int(a)==int(c):\n",
        "  print(2)\n",
        "else:\n",
        "  print(3)"
      ],
      "metadata": {
        "id": "K4Mmlzu3ZVA3",
        "colab": {
          "base_uri": "https://localhost:8080/"
        },
        "outputId": "d5fab994-2d8f-488b-af49-dcddca193d70"
      },
      "execution_count": 75,
      "outputs": [
        {
          "output_type": "stream",
          "name": "stdout",
          "text": [
            "2 4 2\n",
            "2\n"
          ]
        }
      ]
    },
    {
      "cell_type": "code",
      "source": [
        "a,b,c = input().split()\n",
        "if int(a)+int(b) > int(c) and int(b)+int(c)>int(a) and int(a)+int(c) > int(b):\n",
        "  print(\"YES\")\n",
        "else:\n",
        "  print(\"NO\")"
      ],
      "metadata": {
        "colab": {
          "base_uri": "https://localhost:8080/"
        },
        "id": "cetQYE5Jdy6A",
        "outputId": "f72b7101-fe18-496e-adce-1a700aebcd72"
      },
      "execution_count": 77,
      "outputs": [
        {
          "output_type": "stream",
          "name": "stdout",
          "text": [
            "5 6 7\n",
            "YES\n"
          ]
        }
      ]
    },
    {
      "cell_type": "code",
      "source": [
        ""
      ],
      "metadata": {
        "id": "nDoqf2CYfhmh"
      },
      "execution_count": null,
      "outputs": []
    }
  ]
}